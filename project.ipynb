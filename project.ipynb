{
 "cells": [
  {
   "cell_type": "code",
   "execution_count": 1,
   "id": "d4e2a485",
   "metadata": {},
   "outputs": [],
   "source": [
    "import cv2\n",
    "import time\n",
    "\n",
    "eye_cascade_path = 'haarcascade_eye_tree_eyeglasses.xml'\n",
    "face_cascade_path = 'haarcascade_frontalface_alt.xml'\n",
    "\n",
    "face_cascade = cv2.CascadeClassifier(face_cascade_path)\n",
    "eye_cascade = cv2.CascadeClassifier(eye_cascade_path)\n",
    "\n",
    "cap = cv2.VideoCapture(0)  \n",
    "\n",
    "drowsy_start_time = 0\n",
    "drowsy_state = False\n",
    "drowsy_alert_triggered = False\n",
    "\n",
    "while True:\n",
    "    ret, frame = cap.read()\n",
    "    if not ret:\n",
    "        print(\"Error: Unable to capture frame from the video source.\")\n",
    "        break\n",
    "\n",
    "    frame = cv2.flip(frame, 1)\n",
    "    gray = cv2.cvtColor(frame, cv2.COLOR_BGR2GRAY)\n",
    "\n",
    "    faces = face_cascade.detectMultiScale(gray, scaleFactor=1.1, minNeighbors=5, minSize=(30, 30))\n",
    "\n",
    "    if len(faces) > 0:\n",
    "        (x, y, w, h) = faces[0]\n",
    "        cv2.rectangle(frame, (x, y), (x + w, y + h), (0, 255, 0), 2)\n",
    "\n",
    "        face_roi = frame[y:y + h, x:x + w]\n",
    "        eyes = eye_cascade.detectMultiScale(face_roi, scaleFactor=1.1, minNeighbors=5, minSize=(30, 30))\n",
    "\n",
    "        if len(eyes) == 0:\n",
    "            if not drowsy_state:\n",
    "                drowsy_start_time = time.time()\n",
    "                drowsy_state = True\n",
    "            cv2.putText(frame, \"!!\", (460, 50), cv2.FONT_HERSHEY_COMPLEX, 0.9, (0, 0, 255), 2)\n",
    "        else:\n",
    "            if drowsy_state:\n",
    "                drowsy_state = False\n",
    "            cv2.putText(frame, \"Non Drowsy!!\", (460, 50), cv2.FONT_HERSHEY_COMPLEX, 0.9, (0, 255, 0), 2)\n",
    "\n",
    "        if drowsy_state and time.time() - drowsy_start_time >= 1 and not drowsy_alert_triggered:\n",
    "            cv2.putText(frame, \"DROWSY ALERT!\", (260, 100), cv2.FONT_HERSHEY_COMPLEX, 1.5, (0, 0, 255), 3)\n",
    "            drowsy_alert_triggered = True\n",
    "\n",
    "        resized_face = cv2.resize(frame, (1280, 720), interpolation=cv2.INTER_LINEAR)\n",
    "        cv2.imshow('Face Recognition', resized_face)\n",
    "\n",
    "    if cv2.waitKey(1) & 0xFF == ord('q'):\n",
    "        break\n",
    "\n",
    "cap.release()\n",
    "cv2.destroyAllWindows()\n"
   ]
  },
  {
   "cell_type": "code",
   "execution_count": null,
   "id": "96120a59",
   "metadata": {},
   "outputs": [],
   "source": []
  }
 ],
 "metadata": {
  "kernelspec": {
   "display_name": "my_kernel",
   "language": "python",
   "name": "my_kernel"
  },
  "language_info": {
   "codemirror_mode": {
    "name": "ipython",
    "version": 3
   },
   "file_extension": ".py",
   "mimetype": "text/x-python",
   "name": "python",
   "nbconvert_exporter": "python",
   "pygments_lexer": "ipython3",
   "version": "3.12.2"
  }
 },
 "nbformat": 4,
 "nbformat_minor": 5
}
